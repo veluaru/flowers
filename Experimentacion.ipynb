{
 "cells": [
  {
   "cell_type": "code",
   "execution_count": 3,
   "metadata": {},
   "outputs": [],
   "source": [
    "import numpy as np # linear algebra\n",
    "import pandas as pd # data processing, CSV file I/O (e.g. pd.read_csv)\n",
    "import os\n",
    "import cv2\n",
    "import matplotlib.pyplot as plt\n",
    "import matplotlib.image as mpimg\n",
    "import utils"
   ]
  },
  {
   "cell_type": "code",
   "execution_count": 4,
   "metadata": {},
   "outputs": [
    {
     "name": "stdout",
     "output_type": "stream",
     "text": [
      "['Data/input/flowers-test\\\\daisy', 'Data/input/flowers-test\\\\rose', 'Data/input/flowers-test\\\\dandelion', 'Data/input/flowers-test\\\\sunflower', 'Data/input/flowers-test\\\\tulip']\n",
      "length : 5\n",
      "length : 5\n",
      "length : 5\n",
      "length : 5\n",
      "length : 5\n"
     ]
    }
   ],
   "source": [
    "#GET DATA\n",
    "\n",
    "DATASET_DIR = os.listdir(\"Data/input/flowers-test\")\n",
    "DATASET_DIR\n",
    "\n",
    "labels = ['daisy', 'rose', 'dandelion', 'sunflower', 'tulip'] #labels\n",
    "DIR = \"Data/input/flowers-test\" # path\n",
    "link = []\n",
    "for label in labels:\n",
    "    path = os.path.join(DIR, label) # combine path and labels\n",
    "    link.append(path) # append in link\n",
    "print(link)\n",
    "\n",
    "\n",
    "for i in range(len(link)):\n",
    "    new = os.listdir(link[i])\n",
    "    i+=1\n",
    "    print(f\"length : {len(new)}\") # each folder total image count"
   ]
  },
  {
   "cell_type": "code",
   "execution_count": 5,
   "metadata": {},
   "outputs": [],
   "source": [
    "#RESIZE IMAGES\n",
    "\n",
    "IMG_SIZE = 224 # image size\n",
    "\n",
    "data = [] \n",
    "\n",
    "def get_data(data_dir):\n",
    "    for category in labels:\n",
    "        path = os.path.join(data_dir, category) #combine path\n",
    "        class_num = labels.index(category) # index no of labels\n",
    "        for img in os.listdir(path):\n",
    "            try:\n",
    "                img_array = cv2.imread(os.path.join(path, img), cv2.IMREAD_COLOR) # color image array\n",
    "                resized_array = cv2.resize(img_array, (IMG_SIZE, IMG_SIZE)) # resize\n",
    "                gray = cv2.cvtColor(resized_array, cv2.COLOR_BGR2GRAY)\n",
    "                data.append([gray, class_num])\n",
    "                cv2.imshow(img,gray)\n",
    "            except Exception as e: # exception\n",
    "                print(e)\n",
    "                print(img)\n",
    "                print(path)\n",
    "    return np.array(data) # return array\n",
    "\n",
    "new_data = get_data(\"Data/input/flowers-test\") # path for function\n",
    "\n"
   ]
  },
  {
   "cell_type": "code",
   "execution_count": null,
   "metadata": {},
   "outputs": [],
   "source": []
  },
  {
   "cell_type": "code",
   "execution_count": null,
   "metadata": {},
   "outputs": [],
   "source": []
  }
 ],
 "metadata": {
  "kernelspec": {
   "display_name": "Python 3",
   "language": "python",
   "name": "python3"
  },
  "language_info": {
   "codemirror_mode": {
    "name": "ipython",
    "version": 3
   },
   "file_extension": ".py",
   "mimetype": "text/x-python",
   "name": "python",
   "nbconvert_exporter": "python",
   "pygments_lexer": "ipython3",
   "version": "3.8.3"
  }
 },
 "nbformat": 4,
 "nbformat_minor": 4
}
